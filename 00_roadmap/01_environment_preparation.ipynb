{
 "cells": [
  {
   "cell_type": "markdown",
   "metadata": {},
   "source": [
    "# Установка пакета `nb_conda_kernels`\n",
    "\n",
    "1. Открыть PyCharm.\n",
    "\n",
    "1. Перейти в терминал (обычно вкладка `Terminal` находится внизу).\n",
    "\n",
    "1. Ввести команду `conda install -c conda-forge nb_conda_kernels -y` и нажать Enter.\n",
    "\n",
    "1. После этого обязательно перезапустить JupyterLab (File-Shut Down), если был открыт.\n",
    "\n",
    "\n",
    "1. Запомнить, что в JupyterLab нужно будет выбрать недавно созданную среду (на картинке пример, название может быть любое). \n",
    "\n",
    "<img src=\"https://raw.githubusercontent.com/ryndovaira-org/data_science_notes/main/images/jupyter_env.png\" alt=\"jupyter_env\"/>"
   ]
  },
  {
   "cell_type": "markdown",
   "metadata": {},
   "source": [
    "# Синтаксис Markdown\n",
    "\n",
    "Базовый синтаксис [Markdown](https://www.markdownguide.org/basic-syntax/)."
   ]
  },
  {
   "cell_type": "markdown",
   "metadata": {},
   "source": [
    "# Установка пакетов"
   ]
  },
  {
   "cell_type": "code",
   "execution_count": 1,
   "metadata": {},
   "outputs": [
    {
     "name": "stdout",
     "output_type": "stream",
     "text": [
      "Collecting package metadata (current_repodata.json): done\n",
      "Solving environment: done\n",
      "\n",
      "\n",
      "==> WARNING: A newer version of conda exists. <==\n",
      "  current version: 23.1.0\n",
      "  latest version: 23.3.1\n",
      "\n",
      "Please update conda by running\n",
      "\n",
      "    $ conda update -n base -c defaults conda\n",
      "\n",
      "Or to minimize the number of packages updated during conda update use\n",
      "\n",
      "     conda install conda=23.3.1\n",
      "\n",
      "\n",
      "\n",
      "## Package Plan ##\n",
      "\n",
      "  environment location: /home/ira/anaconda3/envs/data_engineering_dmitriy\n",
      "\n",
      "  added / updated specs:\n",
      "    - _libgcc_mutex==0.1=conda_forge\n",
      "    - _openmp_mutex==4.5=2_gnu\n",
      "    - bzip2==1.0.8=h7f98852_4\n",
      "    - ca-certificates==2022.12.7=ha878542_0\n",
      "    - ld_impl_linux-64==2.40=h41732ed_0\n",
      "    - libffi==3.4.2=h7f98852_5\n",
      "    - libgcc-ng==12.2.0=h65d4601_19\n",
      "    - libgomp==12.2.0=h65d4601_19\n",
      "    - libnsl==2.0.0=h7f98852_0\n",
      "    - libsqlite==3.40.0=h753d276_0\n",
      "    - libuuid==2.38.1=h0b41bf4_0\n",
      "    - libzlib==1.2.13=h166bdaf_4\n",
      "    - ncurses==6.3=h27087fc_1\n",
      "    - openssl==3.1.0=h0b41bf4_0\n",
      "    - pip==23.0.1=pyhd8ed1ab_0\n",
      "    - python==3.10.10=he550d4f_0_cpython\n",
      "    - readline==8.2=h8228510_1\n",
      "    - setuptools==67.6.1=pyhd8ed1ab_0\n",
      "    - tk==8.6.12=h27826a3_0\n",
      "    - tzdata==2023c=h71feb2d_0\n",
      "    - wheel==0.40.0=pyhd8ed1ab_0\n",
      "    - xz==5.2.6=h166bdaf_0\n",
      "\n",
      "\n",
      "The following packages will be SUPERSEDED by a higher-priority channel:\n",
      "\n",
      "  certifi            conda-forge/noarch::certifi-2022.12.7~ --> anaconda/linux-64::certifi-2022.12.7-py310h06a4308_0 \n",
      "\n",
      "\n",
      "\n",
      "Downloading and Extracting Packages\n",
      "\n",
      "Preparing transaction: done\n",
      "Verifying transaction: done\n",
      "Executing transaction: done\n"
     ]
    }
   ],
   "source": [
    "!conda install -c anaconda -c conda-forge --file ../requirements.txt -y"
   ]
  }
 ],
 "metadata": {
  "kernelspec": {
   "display_name": "Python [conda env:data_engineering_dmitriy] *",
   "language": "python",
   "name": "conda-env-data_engineering_dmitriy-py"
  },
  "language_info": {
   "codemirror_mode": {
    "name": "ipython",
    "version": 3
   },
   "file_extension": ".py",
   "mimetype": "text/x-python",
   "name": "python",
   "nbconvert_exporter": "python",
   "pygments_lexer": "ipython3",
   "version": "3.10.10"
  }
 },
 "nbformat": 4,
 "nbformat_minor": 4
}
