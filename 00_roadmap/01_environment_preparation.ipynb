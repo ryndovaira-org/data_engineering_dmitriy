{
 "cells": [
  {
   "cell_type": "markdown",
   "metadata": {},
   "source": [
    "# Установка пакета `nb_conda_kernels`\n",
    "\n",
    "1. Открыть PyCharm.\n",
    "\n",
    "1. Перейти в терминал (обычно вкладка `Terminal` находится внизу).\n",
    "\n",
    "1. Ввести команду `conda install -c conda-forge nb_conda_kernels -y` и нажать Enter.\n",
    "\n",
    "1. После этого обязательно перезапустить JupyterLab (File-Shut Down), если был открыт.\n",
    "\n",
    "\n",
    "1. Запомнить, что в JupyterLab нужно будет выбрать недавно созданную среду (на картинке пример, название может быть любое). \n",
    "\n",
    "<img src=\"https://raw.githubusercontent.com/ryndovaira-org/data_science_notes/main/images/jupyter_env.png\" alt=\"jupyter_env\"/>"
   ]
  },
  {
   "cell_type": "markdown",
   "metadata": {},
   "source": [
    "# Синтаксис Markdown\n",
    "\n",
    "Базовый синтаксис [Markdown](https://www.markdownguide.org/basic-syntax/)."
   ]
  },
  {
   "cell_type": "markdown",
   "metadata": {},
   "source": [
    "# Установка пакетов"
   ]
  },
  {
   "cell_type": "code",
   "execution_count": 1,
   "metadata": {},
   "outputs": [
    {
     "name": "stdout",
     "output_type": "stream",
     "text": [
      "Collecting package metadata (current_repodata.json): done\n",
      "Solving environment: done\n",
      "\n",
      "# All requested packages already installed.\n",
      "\n"
     ]
    }
   ],
   "source": [
    "!conda install -c anaconda -c conda-forge --file ../requirements.txt -y"
   ]
  }
 ],
 "metadata": {
  "kernelspec": {
   "display_name": "Python [conda env:data_engineering_dmitriy] *",
   "language": "python",
   "name": "conda-env-data_engineering_dmitriy-py"
  },
  "language_info": {
   "codemirror_mode": {
    "name": "ipython",
    "version": 3
   },
   "file_extension": ".py",
   "mimetype": "text/x-python",
   "name": "python",
   "nbconvert_exporter": "python",
   "pygments_lexer": "ipython3",
   "version": "3.10.10"
  }
 },
 "nbformat": 4,
 "nbformat_minor": 4
}
